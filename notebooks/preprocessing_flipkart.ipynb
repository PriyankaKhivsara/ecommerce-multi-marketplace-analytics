{
 "cells": [
  {
   "cell_type": "code",
   "execution_count": null,
   "metadata": {},
   "outputs": [],
   "source": [
    "# Import necessary libraries\n",
    "import pandas as pd\n",
    "\n",
    "# Load Flipkart orders data\n",
    "flipkart_data = pd.read_csv('../data/flipkart_orders_clean.csv')\n",
    "\n",
    "# Display the first few rows of the dataset\n",
    "flipkart_data.head()"
   ]
  },
  {
   "cell_type": "code",
   "execution_count": null,
   "metadata": {},
   "outputs": [],
   "source": [
    "# Data preprocessing steps\n",
    "\n",
    "# Check for missing values\n",
    "missing_values = flipkart_data.isnull().sum()\n",
    "print(missing_values)\n",
    "\n",
    "# Fill or drop missing values as necessary\n",
    "flipkart_data.fillna(method='ffill', inplace=True)  # Example: forward fill\n",
    "\n",
    "# Convert date columns to datetime format\n",
    "flipkart_data['order_date'] = pd.to_datetime(flipkart_data['order_date'])\n",
    "\n",
    "# Display the cleaned data\n",
    "flipkart_data.info()"
   ]
  },
  {
   "cell_type": "code",
   "execution_count": null,
   "metadata": {},
   "outputs": [],
   "source": [
    "# Save the cleaned data to a new CSV file\n",
    "flipkart_data.to_csv('../data/flipkart_orders_cleaned.csv', index=False)\n",
    "print('Cleaned data saved to flipkart_orders_cleaned.csv')"
   ]
  }
 ],
 "metadata": {
  "kernelspec": {
   "display_name": "Python 3",
   "language": "python",
   "name": "python3"
  },
  "language_info": {
   "codemirror_mode": {
    "name": "ipython",
    "version": 3
   },
   "file_extension": ".py",
   "mimetype": "text/x-python",
   "name": "python",
   "nbconvert_exporter": "python",
   "pygments_lexer": "ipython3",
   "version": "3.8.5"
  }
 },
 "nbformat": 4,
 "nbformat_minor": 4
}