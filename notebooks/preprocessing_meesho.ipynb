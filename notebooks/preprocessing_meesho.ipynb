{
 "cells": [
  {
   "cell_type": "code",
   "execution_count": null,
   "metadata": {},
   "outputs": [],
   "source": [
    "# Preprocessing Meesho Orders Data\n",
    "\n",
    "import pandas as pd\n",
    "\n",
    "# Load the Meesho orders data\n",
    "meesho_data = pd.read_csv('../data/meesho_orders_clean.csv')\n",
    "\n",
    "# Display the first few rows of the dataset\n",
    "meesho_data.head()\n",
    "\n",
    "# Data Cleaning Steps\n",
    "# 1. Check for missing values\n",
    "missing_values = meesho_data.isnull().sum()\n",
    "print('Missing values in Meesho data:', missing_values)\n",
    "\n",
    "# 2. Drop duplicates\n",
    "meesho_data = meesho_data.drop_duplicates()\n",
    "\n",
    "# 3. Convert date columns to datetime format\n",
    "meesho_data['order_date'] = pd.to_datetime(meesho_data['order_date'])\n",
    "\n",
    "# 4. Filter out any irrelevant columns (example)\n",
    "meesho_data = meesho_data[['order_id', 'customer_id', 'order_date', 'total_amount']]\n",
    "\n",
    "# Save the cleaned data\n",
    "meesho_data.to_csv('../data/meesho_orders_cleaned.csv', index=False)\n",
    "\n",
    "# Display the cleaned data\n",
    "meesho_data.head()"
   ]
  }
 ],
 "metadata": {
  "kernelspec": {
   "display_name": "Python 3",
   "language": "python",
   "name": "python3"
  },
  "language_info": {
   "codemirror_mode": {
    "name": "ipython",
    "version": 3
   },
   "file_extension": ".py",
   "mimetype": "text/x-python",
   "name": "python",
   "nbconvert_exporter": "python",
   "pygments_lexer": "ipython3",
   "version": "3.8.5"
  }
 },
 "nbformat": 4,
 "nbformat_minor": 4
}