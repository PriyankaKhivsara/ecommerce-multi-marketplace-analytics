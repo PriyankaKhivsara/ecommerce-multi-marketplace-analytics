{
 "cells": [
  {
   "cell_type": "code",
   "execution_count": null,
   "metadata": {},
   "outputs": [],
   "source": [
    "# Load necessary libraries\n",
    "import pandas as pd\n",
    "from sqlalchemy import create_engine\n",
    "\n",
    "# Define database connection parameters\n",
    "DB_TYPE = 'postgresql'\n",
    "DB_DRIVER = 'psycopg2'\n",
    "DB_USER = 'your_username'\n",
    "DB_PASSWORD = 'your_password'\n",
    "DB_HOST = 'localhost'\n",
    "DB_PORT = '5432'\n",
    "DB_NAME = 'your_database'\n",
    "\n",
    "# Create a database connection\n",
    "engine = create_engine(f'{DB_TYPE}+{DB_DRIVER}://{DB_USER}:{DB_PASSWORD}@{DB_HOST}:{DB_PORT}/{DB_NAME}')\n",
    "\n",
    "# Function to load data into the database\n",
    "def load_data_to_db(dataframe, table_name):\n",
    "    dataframe.to_sql(table_name, con=engine, if_exists='replace', index=False)\n",
    "\n",
    "# Load data from CSV files\n",
    "def load_data():\n",
    "    # Example: Load Amazon orders\n",
    "    amazon_orders = pd.read_csv('../data/amazon_orders_clean.csv')\n",
    "    load_data_to_db(amazon_orders, 'amazon_orders')\n",
    "    \n",
    "    # Load other datasets similarly\n",
    "    # flipkart_orders = pd.read_csv('../data/flipkart_orders_clean.csv')\n",
    "    # load_data_to_db(flipkart_orders, 'flipkart_orders')\n",
    "    \n",
    "    # Add more datasets as needed\n",
    "\n",
    "# Execute the load function\n",
    "if __name__ == '__main__':\n",
    "    load_data()"
   ]
  }
 ],
 "metadata": {
  "kernelspec": {
   "display_name": "Python 3",
   "language": "python",
   "name": "python3"
  },
  "language_info": {
   "codemirror_mode": {
    "name": "ipython",
    "version": 3
   },
   "file_extension": ".py",
   "mimetype": "text/x-python",
   "name": "python",
   "nbconvert_exporter": "python",
   "pygments_lexer": "ipython3",
   "version": "3.8.5"
  }
 },
 "nbformat": 4,
 "nbformat_minor": 4
}